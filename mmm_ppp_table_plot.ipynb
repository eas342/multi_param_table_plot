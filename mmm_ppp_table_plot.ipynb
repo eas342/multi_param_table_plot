{
 "cells": [
  {
   "cell_type": "code",
   "execution_count": null,
   "metadata": {
    "collapsed": false
   },
   "outputs": [],
   "source": [
    "from astropy.io import fits\n",
    "import numpy as np\n",
    "import glob\n",
    "import matplotlib.pyplot as plt\n",
    "from astropy.table import hstack, vstack, Table\n",
    "from astropy.io import ascii\n",
    "import pdb\n",
    "from matplotlib.ticker import MultipleLocator, FormatStrFormatter\n",
    "from matplotlib.patches import Circle, Wedge, Polygon\n",
    "from matplotlib.collections import PatchCollection\n",
    "%matplotlib inline"
   ]
  },
  {
   "cell_type": "code",
   "execution_count": null,
   "metadata": {
    "collapsed": true
   },
   "outputs": [],
   "source": [
    "dat = ascii.read('full_MP_stdev.csv')"
   ]
  },
  {
   "cell_type": "code",
   "execution_count": null,
   "metadata": {
    "collapsed": false
   },
   "outputs": [],
   "source": [
    "def multiParamFig(dat,testType='FULL3'):\n",
    "    fig = plt.figure(figsize=(10,6))\n",
    "    ax = fig.add_axes([0.07, 0.1, 0.6, 0.8])\n",
    "\n",
    "    #ax = fig.add_subplot(2,1,1)\n",
    "    #fig, ax = plt.subplots()\n",
    "    ax.set_xlim(0,2)\n",
    "    ax.set_ylim(0,2)\n",
    "    ax.set_xticklabels(['','Off','','On'])\n",
    "    ax.set_yticklabels(['','Off','','On'])\n",
    "    ax.set_xlabel('Flat Fielding')\n",
    "    ax.set_ylabel('IPC Correction')\n",
    "    ax.text\n",
    "    patches, colVals = [], []\n",
    "    for pipeParam in dat:\n",
    "        paramString = str(pipeParam['Test Name'])\n",
    "        ipcVal = float(paramString[0]) - 1 ## IPC correction\n",
    "        linVal = float(paramString[1]) - 1 ## Linearity correction\n",
    "        ffcVal = float(paramString[2]) - 1 ## Flat Field Correction\n",
    "        #showString = paramString\n",
    "        showString = \"{0:.2f}\".format(pipeParam[testType])\n",
    "        xPos = ffcVal+ 0.5 * linVal+0.25\n",
    "        yPos = ipcVal+ 0.5 * linVal+0.25\n",
    "        ax.text(xPos,yPos,showString,\n",
    "               verticalalignment='center',horizontalalignment='center')\n",
    "        if np.mod(xPos,1.0) < 0.5:\n",
    "            patches.append(Polygon([[ffcVal,ipcVal],[ffcVal+1,ipcVal],[ffcVal,ipcVal+1]]))\n",
    "        else:\n",
    "            patches.append(Polygon([[ffcVal,ipcVal+1.],[ffcVal+1,ipcVal+1],[ffcVal+1,ipcVal]]))\n",
    "        colVals.append(pipeParam[testType])\n",
    "    #patch = Polygon([[0,0],[1,0],[0,1]])\n",
    "    p = PatchCollection(patches,cmap=plt.cm.Blues,alpha=0.4)\n",
    "    #p.set_array(np.array(0.5))\n",
    "    p.set_array(np.array(colVals))\n",
    "    #p.set_array(100*np.random.rand(len(patches)))\n",
    "    ax.add_collection(p)\n",
    "\n",
    "    fig.colorbar(p,label='$\\sigma$ (ppm)')\n",
    "    ## The second plot is a sort or legend to explain the third parameter\n",
    "    ax2 = fig.add_axes([0.75,0.1,0.1,0.15])\n",
    "    ax2.set_xticklabels([''])\n",
    "    ax2.set_xlim(0,1)\n",
    "    ax2.set_xticks([0,.5,1])\n",
    "    ax2.set_yticklabels([''])\n",
    "    ax2.set_ylim(0,1)\n",
    "    ax2.set_yticks([0,0.5,1])\n",
    "    ax2.text(-0.1,1.1,'Linearity Correction',rotation=45,\n",
    "            verticalalignment='center',horizontalalignment='center')\n",
    "    patch = Polygon([[0,0],[1,0],[0,1]],facecolor=plt.cm.Blues(0),alpha=0.4)\n",
    "    ax2.plot([0,1],[1,0],color='k')\n",
    "                   #edgecolor='k',linewidth=3)\n",
    "    \n",
    "    ax2.add_patch(patch)\n",
    "    ax2.text(0.25,.25,'off')\n",
    "    ax2.text(.75,.75,'on',verticalalignment='center',horizontalalignment='center')\n",
    "    fig.savefig('plots/'+testType+'.png',dpi=150)"
   ]
  },
  {
   "cell_type": "code",
   "execution_count": null,
   "metadata": {
    "collapsed": false
   },
   "outputs": [],
   "source": [
    "multiParamFig(dat,testType='FULL3')"
   ]
  },
  {
   "cell_type": "code",
   "execution_count": null,
   "metadata": {
    "collapsed": false
   },
   "outputs": [],
   "source": [
    "multiParamFig(dat,testType='FULL4')"
   ]
  },
  {
   "cell_type": "code",
   "execution_count": null,
   "metadata": {
    "collapsed": false
   },
   "outputs": [],
   "source": [
    "multiParamFig(dat,testType='WLP8SUB')"
   ]
  },
  {
   "cell_type": "code",
   "execution_count": null,
   "metadata": {
    "collapsed": false
   },
   "outputs": [],
   "source": [
    "multiParamFig(dat,testType='ES-WLP8SUB')\n"
   ]
  },
  {
   "cell_type": "code",
   "execution_count": null,
   "metadata": {
    "collapsed": false
   },
   "outputs": [],
   "source": [
    "multiParamFig(dat,testType='ES-FULL4')"
   ]
  },
  {
   "cell_type": "code",
   "execution_count": null,
   "metadata": {
    "collapsed": true
   },
   "outputs": [],
   "source": []
  }
 ],
 "metadata": {
  "kernelspec": {
   "display_name": "Python 2",
   "language": "python",
   "name": "python2"
  },
  "language_info": {
   "codemirror_mode": {
    "name": "ipython",
    "version": 2
   },
   "file_extension": ".py",
   "mimetype": "text/x-python",
   "name": "python",
   "nbconvert_exporter": "python",
   "pygments_lexer": "ipython2",
   "version": "2.7.11"
  }
 },
 "nbformat": 4,
 "nbformat_minor": 0
}
